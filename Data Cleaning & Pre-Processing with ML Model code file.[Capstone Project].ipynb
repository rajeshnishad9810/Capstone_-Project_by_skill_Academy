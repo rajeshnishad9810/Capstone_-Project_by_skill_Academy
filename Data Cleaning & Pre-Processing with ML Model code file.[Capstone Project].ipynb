{
 "cells": [
  {
   "cell_type": "markdown",
   "id": "66d9e80b-82a3-41b3-8627-d19e124b6ddf",
   "metadata": {},
   "source": [
    "# **Capstone Project (Used Car Price Prediction)**\n",
    "\n",
    "## Part 2\n",
    "\n",
    "In this notebook, I had performed scaling and model building on a processed dataset, saved from a previous notebook. I had applied nine different regression models to predict used car prices, and detailed instructions for each step are provided throughout the notebook. Finally, you can find the highest-scoring model saved using the pickle library for deployment on the web with the Streamlit library.\n",
    "\n",
    "\n",
    "The columns in the given dataset description:\n",
    "\n",
    "- name               - Maruti,Hyundai,Mahindra,Tata,Ford,Honda,Toyota,Chevrolet,Renault,Volkswagen,Nissan,Skoda,OpelCorsa,Daewoo,Force,Isuzu,Kia.\n",
    "                       Fiat, Audi, Datsun, BMW, Mercedes-Benz, Jaguar,Mitsubishi,Land,Volvo,Jeep,Ambassador,MG,\n",
    "- year               - 1992 to 2020 years.\n",
    "- selling_price      - cars prices Range 20,000/- to 89,00,000/-\n",
    "- km_driven          - Kilometer drive 1 km_drive to 806599 Km_drive.\n",
    "- fuel               - Diesel ,Petrol, CNG ,LPG,Electric\n",
    "- seller_type        - Individual ,Dealer,Trustmark Dealer.\n",
    "- transmission       - Manual ,Automatic.\n",
    "- owner              - First Owner ,Second Owner ,Third Owner ,Fourth & Above Owner ,Test Drive Car.\n",
    "\n",
    "\n",
    "\n",
    "### Questions\n",
    "\n",
    "1) Explore the Data using Excel. Understand the data and prepare a short summary about the dataset in the PPT.\n",
    "2) Download the CAR DETAILS dataset and perform Data cleaning and Data Pre-Processing if Necessary.\n",
    "3) Use the various methods such as Handling null values, One-Hot Encoding, Imputation and Scaling of Data Pre-Processing where necessary.\n",
    "4) Perform Exploratory data analysis (EDA) on the Data and perform Graphical Analysis on the Data. Include the graphs with conclusions from the Graphical Analysis.\n",
    "5) Prepare the Data for Machine Learning modeling.\n",
    "6) Apply various Machine Learning techniques such as Regression or classification ,Bagging, Ensemble techniques and find out the best model using various Machine Learning model evaluation metrics.⬅️\n",
    "7) Save the best model and Load the model.⬅️\n",
    "8) Take the original data set and make another dataset by randomly picking 20 data points from the CAR DETAILS dataset and apply the saved model on the same Dataset and test the model.⬅️\n",
    "9) Make a GitHub Account by visiting the GitHub Website. Create a repository named Data Science Capstone Project and upload the model with the dataset, code file.\n",
    "10) Create a Streamlit Account by visiting the Streamlit Website. Connect your GitHub account with streamlit.\n",
    "11) Create an app.py file and other dependencies files for Streamlit app to be deployed on Streamlit Cloud. Make a simple website and deploy your ML model on Streamlit, Make the website public.\n",
    "12) Share the Streamlit website and GitHub repository links in the Project PPT.\n",
    "\n",
    "### Context\n",
    "\n",
    "- Importing Libraries\n",
    "- Uploading Dataset\n",
    "- Applying Scaling\n",
    "    1) [Label Encoding](#label)\n",
    "    2) [MinMaxScaler](#scale)\n",
    "- [Checking Correlation](#corr)\n",
    "- [Modal Building](#mb)\n",
    "- [Checking Important Feature](#feature)\n",
    "- Modal\n",
    "    1) Basic Regression Algorithms\n",
    "        * [Linear Regression](#lr)\n",
    "        * [Ridge Regression](#ri)\n",
    "        * [Lasso Regression](#la)\n",
    "        * [KNeighbour Regression](#knr)\n",
    "    2) Ensemble Techniques \n",
    "        \n",
    "        <i>Bagging Algorithms</i>\n",
    "        * [Decision Tree Regression](#dt)\n",
    "        * [Random Forest Regression](#rf)\n",
    "\n",
    "        <i>Bagging Algorithms</i>\n",
    "        * [AdaBoost Regression](#ab)\n",
    "        * [Gradient Boosting Regression](#gb)\n",
    "        * [XGBoost Regression](xg#)\n",
    "- [Saving and Loading the modal](#save)\n",
    "- [Obtaining sample dataset](#sam)\n",
    "- [Producing prediction through saved modal](#pred)\n"
   ]
  },
  {
   "cell_type": "markdown",
   "id": "b3d4b750-a12b-4598-9e8b-727bcd63aea4",
   "metadata": {},
   "source": [
    "## **Importing Modules and Libraries**"
   ]
  },
  {
   "cell_type": "code",
   "execution_count": 4,
   "id": "b9e274c2-8b67-46bd-ae11-c02fd4e53d22",
   "metadata": {},
   "outputs": [],
   "source": [
    "import numpy as np\n",
    "import pandas as pd\n",
    "import matplotlib.pyplot as plt\n",
    "import seaborn as sns\n",
    "\n",
    "from sklearn.preprocessing import LabelEncoder, StandardScaler\n",
    "\n",
    "from sklearn.model_selection import train_test_split\n",
    "from sklearn.metrics import mean_squared_error,mean_absolute_error,r2_score\n",
    "\n",
    "from sklearn.linear_model import LinearRegression, Ridge, Lasso\n",
    "from sklearn.neighbors import KNeighborsRegressor\n",
    "from sklearn.tree import DecisionTreeRegressor\n",
    "from sklearn.ensemble import RandomForestRegressor, AdaBoostRegressor,GradientBoostingRegressor\n",
    "from xgboost import XGBRegressor\n",
    "\n",
    "import pickle as pkl\n",
    "\n",
    "import warnings\n",
    "warnings.filterwarnings(\"ignore\")"
   ]
  },
  {
   "cell_type": "markdown",
   "id": "3abc7977-969c-4922-bbb2-e8f77d03b9d8",
   "metadata": {},
   "source": [
    "## **Uploading the preprocessed dataset**"
   ]
  },
  {
   "cell_type": "code",
   "execution_count": 6,
   "id": "6b40055b-351e-4639-8d0c-0af624efbcf3",
   "metadata": {},
   "outputs": [],
   "source": [
    "df = pd.read_csv(r'C:\\Users\\rajes\\Capstone Project\\Car_Details_Cleaned_Dataset.csv')"
   ]
  },
  {
   "cell_type": "code",
   "execution_count": 7,
   "id": "64dbb7fb-0afe-4b6d-88f5-6d168dca6e38",
   "metadata": {},
   "outputs": [
    {
     "data": {
      "text/html": [
       "<div>\n",
       "<style scoped>\n",
       "    .dataframe tbody tr th:only-of-type {\n",
       "        vertical-align: middle;\n",
       "    }\n",
       "\n",
       "    .dataframe tbody tr th {\n",
       "        vertical-align: top;\n",
       "    }\n",
       "\n",
       "    .dataframe thead th {\n",
       "        text-align: right;\n",
       "    }\n",
       "</style>\n",
       "<table border=\"1\" class=\"dataframe\">\n",
       "  <thead>\n",
       "    <tr style=\"text-align: right;\">\n",
       "      <th></th>\n",
       "      <th>Car_Brand</th>\n",
       "      <th>Car_Name</th>\n",
       "      <th>Year</th>\n",
       "      <th>Selling_Price</th>\n",
       "      <th>Km_Driven</th>\n",
       "      <th>Fuel</th>\n",
       "      <th>Seller_Type</th>\n",
       "      <th>Transmission</th>\n",
       "      <th>Owner</th>\n",
       "    </tr>\n",
       "  </thead>\n",
       "  <tbody>\n",
       "    <tr>\n",
       "      <th>0</th>\n",
       "      <td>Maruti</td>\n",
       "      <td>800</td>\n",
       "      <td>2007</td>\n",
       "      <td>60000</td>\n",
       "      <td>70000</td>\n",
       "      <td>Petrol</td>\n",
       "      <td>Individual</td>\n",
       "      <td>Manual</td>\n",
       "      <td>First Owner</td>\n",
       "    </tr>\n",
       "    <tr>\n",
       "      <th>1</th>\n",
       "      <td>Maruti</td>\n",
       "      <td>Wagon</td>\n",
       "      <td>2007</td>\n",
       "      <td>135000</td>\n",
       "      <td>50000</td>\n",
       "      <td>Petrol</td>\n",
       "      <td>Individual</td>\n",
       "      <td>Manual</td>\n",
       "      <td>First Owner</td>\n",
       "    </tr>\n",
       "    <tr>\n",
       "      <th>2</th>\n",
       "      <td>Hyundai</td>\n",
       "      <td>Verna</td>\n",
       "      <td>2012</td>\n",
       "      <td>600000</td>\n",
       "      <td>100000</td>\n",
       "      <td>Diesel</td>\n",
       "      <td>Individual</td>\n",
       "      <td>Manual</td>\n",
       "      <td>First Owner</td>\n",
       "    </tr>\n",
       "    <tr>\n",
       "      <th>3</th>\n",
       "      <td>Datsun</td>\n",
       "      <td>RediGO</td>\n",
       "      <td>2017</td>\n",
       "      <td>250000</td>\n",
       "      <td>46000</td>\n",
       "      <td>Petrol</td>\n",
       "      <td>Individual</td>\n",
       "      <td>Manual</td>\n",
       "      <td>First Owner</td>\n",
       "    </tr>\n",
       "    <tr>\n",
       "      <th>4</th>\n",
       "      <td>Honda</td>\n",
       "      <td>Amaze</td>\n",
       "      <td>2014</td>\n",
       "      <td>450000</td>\n",
       "      <td>141000</td>\n",
       "      <td>Diesel</td>\n",
       "      <td>Individual</td>\n",
       "      <td>Manual</td>\n",
       "      <td>Second Owner</td>\n",
       "    </tr>\n",
       "  </tbody>\n",
       "</table>\n",
       "</div>"
      ],
      "text/plain": [
       "  Car_Brand Car_Name  Year  Selling_Price  Km_Driven    Fuel Seller_Type  \\\n",
       "0    Maruti      800  2007          60000      70000  Petrol  Individual   \n",
       "1    Maruti    Wagon  2007         135000      50000  Petrol  Individual   \n",
       "2   Hyundai    Verna  2012         600000     100000  Diesel  Individual   \n",
       "3    Datsun   RediGO  2017         250000      46000  Petrol  Individual   \n",
       "4     Honda    Amaze  2014         450000     141000  Diesel  Individual   \n",
       "\n",
       "  Transmission         Owner  \n",
       "0       Manual   First Owner  \n",
       "1       Manual   First Owner  \n",
       "2       Manual   First Owner  \n",
       "3       Manual   First Owner  \n",
       "4       Manual  Second Owner  "
      ]
     },
     "execution_count": 7,
     "metadata": {},
     "output_type": "execute_result"
    }
   ],
   "source": [
    "df.head()"
   ]
  },
  {
   "cell_type": "code",
   "execution_count": 8,
   "id": "5da282e1-dd19-44f7-8c8d-f9584e3c133c",
   "metadata": {},
   "outputs": [],
   "source": [
    "# Creating a copy of dataset\n",
    "data = df.copy()"
   ]
  },
  {
   "cell_type": "code",
   "execution_count": 9,
   "id": "d4e0bfb9-bf00-4db2-b48e-cf97b42c999d",
   "metadata": {},
   "outputs": [
    {
     "data": {
      "text/plain": [
       "(3145, 9)"
      ]
     },
     "execution_count": 9,
     "metadata": {},
     "output_type": "execute_result"
    }
   ],
   "source": [
    "# Checking shape of dataset\n",
    "data.shape"
   ]
  },
  {
   "cell_type": "code",
   "execution_count": 10,
   "id": "690aa047-8ccb-4f0b-8ca5-3fe7d3baefe8",
   "metadata": {},
   "outputs": [],
   "source": [
    "# Seprating the categorical and numerical columns\n",
    "categorical_col = ['Car_Brand', 'Car_Name', 'Fuel', 'Seller_Type', 'Transmission', 'Owner']\n",
    "numerical_col = ['Year', 'Selling_Price', 'Km_Driven']"
   ]
  },
  {
   "cell_type": "markdown",
   "id": "ec70e532-b3cc-4343-9591-8ea68eb0ee5b",
   "metadata": {},
   "source": [
    "## **Applying Label Encoding**"
   ]
  },
  {
   "cell_type": "code",
   "execution_count": 12,
   "id": "08444eb4-e0f6-4750-b024-d17ddf156974",
   "metadata": {},
   "outputs": [
    {
     "data": {
      "text/html": [
       "<style>#sk-container-id-1 {color: black;background-color: white;}#sk-container-id-1 pre{padding: 0;}#sk-container-id-1 div.sk-toggleable {background-color: white;}#sk-container-id-1 label.sk-toggleable__label {cursor: pointer;display: block;width: 100%;margin-bottom: 0;padding: 0.3em;box-sizing: border-box;text-align: center;}#sk-container-id-1 label.sk-toggleable__label-arrow:before {content: \"▸\";float: left;margin-right: 0.25em;color: #696969;}#sk-container-id-1 label.sk-toggleable__label-arrow:hover:before {color: black;}#sk-container-id-1 div.sk-estimator:hover label.sk-toggleable__label-arrow:before {color: black;}#sk-container-id-1 div.sk-toggleable__content {max-height: 0;max-width: 0;overflow: hidden;text-align: left;background-color: #f0f8ff;}#sk-container-id-1 div.sk-toggleable__content pre {margin: 0.2em;color: black;border-radius: 0.25em;background-color: #f0f8ff;}#sk-container-id-1 input.sk-toggleable__control:checked~div.sk-toggleable__content {max-height: 200px;max-width: 100%;overflow: auto;}#sk-container-id-1 input.sk-toggleable__control:checked~label.sk-toggleable__label-arrow:before {content: \"▾\";}#sk-container-id-1 div.sk-estimator input.sk-toggleable__control:checked~label.sk-toggleable__label {background-color: #d4ebff;}#sk-container-id-1 div.sk-label input.sk-toggleable__control:checked~label.sk-toggleable__label {background-color: #d4ebff;}#sk-container-id-1 input.sk-hidden--visually {border: 0;clip: rect(1px 1px 1px 1px);clip: rect(1px, 1px, 1px, 1px);height: 1px;margin: -1px;overflow: hidden;padding: 0;position: absolute;width: 1px;}#sk-container-id-1 div.sk-estimator {font-family: monospace;background-color: #f0f8ff;border: 1px dotted black;border-radius: 0.25em;box-sizing: border-box;margin-bottom: 0.5em;}#sk-container-id-1 div.sk-estimator:hover {background-color: #d4ebff;}#sk-container-id-1 div.sk-parallel-item::after {content: \"\";width: 100%;border-bottom: 1px solid gray;flex-grow: 1;}#sk-container-id-1 div.sk-label:hover label.sk-toggleable__label {background-color: #d4ebff;}#sk-container-id-1 div.sk-serial::before {content: \"\";position: absolute;border-left: 1px solid gray;box-sizing: border-box;top: 0;bottom: 0;left: 50%;z-index: 0;}#sk-container-id-1 div.sk-serial {display: flex;flex-direction: column;align-items: center;background-color: white;padding-right: 0.2em;padding-left: 0.2em;position: relative;}#sk-container-id-1 div.sk-item {position: relative;z-index: 1;}#sk-container-id-1 div.sk-parallel {display: flex;align-items: stretch;justify-content: center;background-color: white;position: relative;}#sk-container-id-1 div.sk-item::before, #sk-container-id-1 div.sk-parallel-item::before {content: \"\";position: absolute;border-left: 1px solid gray;box-sizing: border-box;top: 0;bottom: 0;left: 50%;z-index: -1;}#sk-container-id-1 div.sk-parallel-item {display: flex;flex-direction: column;z-index: 1;position: relative;background-color: white;}#sk-container-id-1 div.sk-parallel-item:first-child::after {align-self: flex-end;width: 50%;}#sk-container-id-1 div.sk-parallel-item:last-child::after {align-self: flex-start;width: 50%;}#sk-container-id-1 div.sk-parallel-item:only-child::after {width: 0;}#sk-container-id-1 div.sk-dashed-wrapped {border: 1px dashed gray;margin: 0 0.4em 0.5em 0.4em;box-sizing: border-box;padding-bottom: 0.4em;background-color: white;}#sk-container-id-1 div.sk-label label {font-family: monospace;font-weight: bold;display: inline-block;line-height: 1.2em;}#sk-container-id-1 div.sk-label-container {text-align: center;}#sk-container-id-1 div.sk-container {/* jupyter's `normalize.less` sets `[hidden] { display: none; }` but bootstrap.min.css set `[hidden] { display: none !important; }` so we also need the `!important` here to be able to override the default hidden behavior on the sphinx rendered scikit-learn.org. See: https://github.com/scikit-learn/scikit-learn/issues/21755 */display: inline-block !important;position: relative;}#sk-container-id-1 div.sk-text-repr-fallback {display: none;}</style><div id=\"sk-container-id-1\" class=\"sk-top-container\"><div class=\"sk-text-repr-fallback\"><pre>LabelEncoder()</pre><b>In a Jupyter environment, please rerun this cell to show the HTML representation or trust the notebook. <br />On GitHub, the HTML representation is unable to render, please try loading this page with nbviewer.org.</b></div><div class=\"sk-container\" hidden><div class=\"sk-item\"><div class=\"sk-estimator sk-toggleable\"><input class=\"sk-toggleable__control sk-hidden--visually\" id=\"sk-estimator-id-1\" type=\"checkbox\" checked><label for=\"sk-estimator-id-1\" class=\"sk-toggleable__label sk-toggleable__label-arrow\">LabelEncoder</label><div class=\"sk-toggleable__content\"><pre>LabelEncoder()</pre></div></div></div></div></div>"
      ],
      "text/plain": [
       "LabelEncoder()"
      ]
     },
     "execution_count": 12,
     "metadata": {},
     "output_type": "execute_result"
    }
   ],
   "source": [
    "# Encoding categorical data\n",
    "label_encoder = {} \n",
    "for i in categorical_col:\n",
    "    le = LabelEncoder()\n",
    "    data[i] = le.fit_transform(data[i])\n",
    "    label_encoder[i] = le\n",
    "le"
   ]
  },
  {
   "cell_type": "code",
   "execution_count": 13,
   "id": "22bf0bfd-82f5-425a-9a60-b6b3f01d1626",
   "metadata": {},
   "outputs": [
    {
     "data": {
      "text/html": [
       "<div>\n",
       "<style scoped>\n",
       "    .dataframe tbody tr th:only-of-type {\n",
       "        vertical-align: middle;\n",
       "    }\n",
       "\n",
       "    .dataframe tbody tr th {\n",
       "        vertical-align: top;\n",
       "    }\n",
       "\n",
       "    .dataframe thead th {\n",
       "        text-align: right;\n",
       "    }\n",
       "</style>\n",
       "<table border=\"1\" class=\"dataframe\">\n",
       "  <thead>\n",
       "    <tr style=\"text-align: right;\">\n",
       "      <th></th>\n",
       "      <th>Car_Brand</th>\n",
       "      <th>Car_Name</th>\n",
       "      <th>Year</th>\n",
       "      <th>Selling_Price</th>\n",
       "      <th>Km_Driven</th>\n",
       "      <th>Fuel</th>\n",
       "      <th>Seller_Type</th>\n",
       "      <th>Transmission</th>\n",
       "      <th>Owner</th>\n",
       "    </tr>\n",
       "  </thead>\n",
       "  <tbody>\n",
       "    <tr>\n",
       "      <th>0</th>\n",
       "      <td>11</td>\n",
       "      <td>4</td>\n",
       "      <td>2007</td>\n",
       "      <td>60000</td>\n",
       "      <td>70000</td>\n",
       "      <td>4</td>\n",
       "      <td>1</td>\n",
       "      <td>1</td>\n",
       "      <td>0</td>\n",
       "    </tr>\n",
       "    <tr>\n",
       "      <th>1</th>\n",
       "      <td>11</td>\n",
       "      <td>135</td>\n",
       "      <td>2007</td>\n",
       "      <td>135000</td>\n",
       "      <td>50000</td>\n",
       "      <td>4</td>\n",
       "      <td>1</td>\n",
       "      <td>1</td>\n",
       "      <td>0</td>\n",
       "    </tr>\n",
       "    <tr>\n",
       "      <th>2</th>\n",
       "      <td>9</td>\n",
       "      <td>132</td>\n",
       "      <td>2012</td>\n",
       "      <td>600000</td>\n",
       "      <td>100000</td>\n",
       "      <td>1</td>\n",
       "      <td>1</td>\n",
       "      <td>1</td>\n",
       "      <td>0</td>\n",
       "    </tr>\n",
       "    <tr>\n",
       "      <th>3</th>\n",
       "      <td>4</td>\n",
       "      <td>101</td>\n",
       "      <td>2017</td>\n",
       "      <td>250000</td>\n",
       "      <td>46000</td>\n",
       "      <td>4</td>\n",
       "      <td>1</td>\n",
       "      <td>1</td>\n",
       "      <td>0</td>\n",
       "    </tr>\n",
       "    <tr>\n",
       "      <th>4</th>\n",
       "      <td>8</td>\n",
       "      <td>11</td>\n",
       "      <td>2014</td>\n",
       "      <td>450000</td>\n",
       "      <td>141000</td>\n",
       "      <td>1</td>\n",
       "      <td>1</td>\n",
       "      <td>1</td>\n",
       "      <td>2</td>\n",
       "    </tr>\n",
       "  </tbody>\n",
       "</table>\n",
       "</div>"
      ],
      "text/plain": [
       "   Car_Brand  Car_Name  Year  Selling_Price  Km_Driven  Fuel  Seller_Type  \\\n",
       "0         11         4  2007          60000      70000     4            1   \n",
       "1         11       135  2007         135000      50000     4            1   \n",
       "2          9       132  2012         600000     100000     1            1   \n",
       "3          4       101  2017         250000      46000     4            1   \n",
       "4          8        11  2014         450000     141000     1            1   \n",
       "\n",
       "   Transmission  Owner  \n",
       "0             1      0  \n",
       "1             1      0  \n",
       "2             1      0  \n",
       "3             1      0  \n",
       "4             1      2  "
      ]
     },
     "execution_count": 13,
     "metadata": {},
     "output_type": "execute_result"
    }
   ],
   "source": [
    "# Viewing the dataset after applying label encoding\n",
    "data.head()"
   ]
  },
  {
   "cell_type": "markdown",
   "id": "31d8f781-b443-4249-8d45-8808ce8f9de6",
   "metadata": {},
   "source": [
    "## **Checking Correlation between features**"
   ]
  },
  {
   "cell_type": "code",
   "execution_count": 15,
   "id": "acc5075c-e834-443f-befb-4e2118f26d89",
   "metadata": {},
   "outputs": [
    {
     "data": {
      "image/png": "[encoded data removed]",
      "text/plain": [
       "<Figure size 1000x800 with 2 Axes>"
      ]
     },
     "metadata": {},
     "output_type": "display_data"
    }
   ],
   "source": [
    "corr = data.corr()\n",
    "corr = corr[corr>=0.7]\n",
    "plt.figure(figsize=(10, 8))\n",
    "sns.heatmap(corr, annot=True, fmt='.2f', cmap='coolwarm')\n",
    "plt.title(\"Correlation Heatmap Plot\")\n",
    "plt.show()"
   ]
  },
  {
   "cell_type": "markdown",
   "id": "582e46ea-4edf-430a-9700-d5879d43c521",
   "metadata": {},
   "source": [
    "<b>There is no correlation between features with each other.So, there is no need to further dive in the dataset. Now, lets proceed with the ML model building."
   ]
  },
  {
   "cell_type": "markdown",
   "id": "50791fe3-c9a2-4502-85f1-73cff5fadbc4",
   "metadata": {},
   "source": [
    "<i>This plot demonstrates the importance of different features in predicting the target variable using a Random Forest regression model through MDI(mean decrease in impurity), helping in identify the Year features contribute most to the model's predictions."
   ]
  },
  {
   "cell_type": "markdown",
   "id": "54b3bd7e-ca2a-414b-8932-8d6db1fdb0ec",
   "metadata": {},
   "source": [
    "## **Modal Building**"
   ]
  },
  {
   "cell_type": "code",
   "execution_count": 19,
   "id": "e06b0380-f74d-49a5-89a4-0cce6ef89402",
   "metadata": {},
   "outputs": [
    {
     "name": "stdout",
     "output_type": "stream",
     "text": [
      "<class 'pandas.core.frame.DataFrame'>\n",
      "<class 'pandas.core.series.Series'>\n",
      "(3145, 8)\n",
      "(3145,)\n"
     ]
    }
   ],
   "source": [
    "# Separating Dependent and Independent Variables\n",
    "X = data.drop([\"Selling_Price\"], axis=1)  # Use 'X' instead of 'x'\n",
    "y = data[\"Selling_Price\"]\n",
    "\n",
    "# Type and shape printing\n",
    "print(type(X))   # Should print <class 'pandas.core.frame.DataFrame'>\n",
    "print(type(y))   # Should print <class 'pandas.core.series.Series'>\n",
    "print(X.shape)   # Prints the shape of the feature DataFrame\n",
    "print(y.shape)   # Prints the shape of the target Series\n"
   ]
  },
  {
   "cell_type": "markdown",
   "id": "c97b5ad4-b4f7-4d1e-83c2-fd3ab6a1b9c6",
   "metadata": {},
   "source": [
    "## **Features Importance in Dataset**"
   ]
  },
  {
   "cell_type": "code",
   "execution_count": 21,
   "id": "81a90ef3-030a-4c95-a27f-855d29f44b3a",
   "metadata": {},
   "outputs": [
    {
     "data": {
      "image/png": "[encoded data removed]",
      "text/plain": [
       "<Figure size 1500x800 with 1 Axes>"
      ]
     },
     "metadata": {},
     "output_type": "display_data"
    }
   ],
   "source": [
    "# Create and fit the Random Forest model\n",
    "forest = RandomForestRegressor()\n",
    "forest.fit(X, y)  # Use 'X' instead of 'x'\n",
    "\n",
    "# Get feature importances\n",
    "importances = forest.feature_importances_\n",
    "std = np.std([tree.feature_importances_ for tree in forest.estimators_], axis=0)\n",
    "forest_importances = pd.Series(importances, index=X.columns)\n",
    "\n",
    "# Plot feature importances\n",
    "fig, ax = plt.subplots(figsize=(15, 8))\n",
    "forest_importances.plot.bar(yerr=std, ax=ax)\n",
    "ax.set_title(\"Feature Importances Using MDI\")\n",
    "ax.set_ylabel(\"Mean Decrease in Impurity\")\n",
    "fig.tight_layout()\n",
    "plt.show()\n"
   ]
  },
  {
   "cell_type": "code",
   "execution_count": 22,
   "id": "a38d20ec-185b-49f1-9a25-e926db0bc72f",
   "metadata": {},
   "outputs": [
    {
     "name": "stdout",
     "output_type": "stream",
     "text": [
      "Training set size: (2358, 8) (2358,)\n",
      "Testing set size: (787, 8) (787,)\n"
     ]
    }
   ],
   "source": [
    "# Splitting the dataset into training and testing sets\n",
    "X_train, X_test, y_train, y_test = train_test_split(X, y, test_size=0.25, random_state=42)\n",
    "\n",
    "# Optionally, print the shapes of the resulting datasets\n",
    "print(\"Training set size:\", X_train.shape, y_train.shape)\n",
    "print(\"Testing set size:\", X_test.shape, y_test.shape)\n"
   ]
  },
  {
   "cell_type": "markdown",
   "id": "9a6555d0-8d5d-463c-aadd-939745805181",
   "metadata": {},
   "source": [
    "## **Implementing StandardScaler**"
   ]
  },
  {
   "cell_type": "code",
   "execution_count": 24,
   "id": "0f31aeb8-06dc-45ca-a578-ebf6bc170010",
   "metadata": {},
   "outputs": [],
   "source": [
    "# Initialize the scaler\n",
    "sc = StandardScaler()\n",
    "\n",
    "# Fit the scaler on the training data and transform it\n",
    "X_train_scaled = sc.fit_transform(X_train)\n",
    "\n",
    "# Transform the test data using the fitted scaler\n",
    "X_test_scaled = sc.transform(X_test)"
   ]
  },
  {
   "cell_type": "code",
   "execution_count": 25,
   "id": "94d80e75-df97-4610-ab6d-16feb727d00e",
   "metadata": {},
   "outputs": [],
   "source": [
    "# Creating variable to store model evaluation data\n",
    "model_scores = {}\n",
    "\n",
    "# Creating  Model Evaluation Function \n",
    "def evaluate(model, model_name, x_train, y_train, x_test, y_test):\n",
    "    y_pred = model.predict(x_test)\n",
    "\n",
    "    # Calculating Model Evaluation\n",
    "    training_score = model.score(x_train,y_train)\n",
    "    testing_score = model.score(x_test,y_test)\n",
    "    mae = mean_absolute_error(y_test, y_pred)\n",
    "    mse = mean_squared_error(y_test, y_pred)\n",
    "    r2 = r2_score(y_test, y_pred)\n",
    "    print(\"Model\",model_name)\n",
    "    print(\"Training Score\",training_score)\n",
    "    print(\"Testing Score\",testing_score)\n",
    "    print(\"Mean Squared Error\",mse)\n",
    "    print(\"Mean Absolute Error\",mae)\n",
    "    print(\"R2 Score\",r2)\n",
    "    \n",
    "    # Storing score of each model in model_scores variable    \n",
    "    model_scores[model_name] = {'Training Score': training_score,'Testing Score': testing_score,'R² Score': r2}"
   ]
  },
  {
   "cell_type": "markdown",
   "id": "0b535d52-fc4d-47b9-9a63-82cc353fba16",
   "metadata": {},
   "source": [
    "## **Basic Regression Algorithm**"
   ]
  },
  {
   "cell_type": "markdown",
   "id": "ac65c608-2ef5-4d93-96f3-25855422c6ce",
   "metadata": {},
   "source": [
    "#### 1.Linear Regression \n",
    "<a id='lr'></a>"
   ]
  },
  {
   "cell_type": "code",
   "execution_count": 28,
   "id": "d56a630e-d56f-40a8-ac2e-9c4c4b4dbb5b",
   "metadata": {},
   "outputs": [
    {
     "name": "stdout",
     "output_type": "stream",
     "text": [
      "Model Linear Regression\n",
      "Training Score 0.5215746306044677\n",
      "Testing Score 0.5315308071313605\n",
      "Mean Squared Error 26580016228.20305\n",
      "Mean Absolute Error 126703.81003730094\n",
      "R2 Score 0.5315308071313605\n"
     ]
    }
   ],
   "source": [
    "linear = LinearRegression()\n",
    "linear.fit(X_train,y_train)\n",
    "evaluate(linear,\"Linear Regression\",X_train,y_train,X_test,y_test)\n"
   ]
  },
  {
   "cell_type": "markdown",
   "id": "91c953f8-def7-4597-a5a8-85f6beb0c2f6",
   "metadata": {},
   "source": [
    "#### 2.Ridge Regression\n",
    "<a id='ri'></a>"
   ]
  },
  {
   "cell_type": "code",
   "execution_count": 30,
   "id": "862d06b1-0bb9-42e9-a677-7ee95ec21d24",
   "metadata": {},
   "outputs": [
    {
     "name": "stdout",
     "output_type": "stream",
     "text": [
      "Model Ridge Regression\n",
      "Training Score 0.5215734254065538\n",
      "Testing Score 0.5314268515252227\n",
      "Mean Squared Error 26585914463.86127\n",
      "Mean Absolute Error 126714.42157069372\n",
      "R2 Score 0.5314268515252227\n"
     ]
    }
   ],
   "source": [
    "ridge = Ridge()\n",
    "ridge.fit(X_train,y_train)\n",
    "evaluate(ridge,\"Ridge Regression\",X_train,y_train,X_test,y_test)\n"
   ]
  },
  {
   "cell_type": "markdown",
   "id": "8d45cb2d-2be4-40cb-9ad0-a7998c5ce9e9",
   "metadata": {},
   "source": [
    "#### 3.Lasso Regression\n",
    "<a id='la'></a>"
   ]
  },
  {
   "cell_type": "code",
   "execution_count": 32,
   "id": "b11b62df-d6f8-43a8-bd58-7f43df9b5de6",
   "metadata": {},
   "outputs": [
    {
     "name": "stdout",
     "output_type": "stream",
     "text": [
      "Model Lasso Regression\n",
      "Training Score 0.5215746301646691\n",
      "Testing Score 0.5315287841041504\n",
      "Mean Squared Error 26580131010.769104\n",
      "Mean Absolute Error 126703.94133800345\n",
      "R2 Score 0.5315287841041504\n"
     ]
    }
   ],
   "source": [
    "lasso = Lasso()\n",
    "lasso.fit(X_train,y_train)\n",
    "evaluate(lasso,\"Lasso Regression\",X_train,y_train,X_test,y_test)\n"
   ]
  },
  {
   "cell_type": "markdown",
   "id": "9ed84125-b26c-4ed4-b889-c616d8956e82",
   "metadata": {},
   "source": [
    "#### 4.KNeighbors Regression\n",
    "<a id='knr'></a>"
   ]
  },
  {
   "cell_type": "code",
   "execution_count": 34,
   "id": "e931c68e-631a-4869-ac30-32f870dd362c",
   "metadata": {},
   "outputs": [
    {
     "name": "stdout",
     "output_type": "stream",
     "text": [
      "Model KNeighbors Regressor\n",
      "Training Score 0.4743965987377978\n",
      "Testing Score 0.20706839681939915\n",
      "Mean Squared Error 44989372196.146225\n",
      "Mean Absolute Error 160545.71613723\n",
      "R2 Score 0.20706839681939915\n"
     ]
    }
   ],
   "source": [
    "knn = KNeighborsRegressor()\n",
    "knn.fit(X_train,y_train)\n",
    "evaluate(knn,\"KNeighbors Regressor\",X_train,y_train,X_test,y_test)\n"
   ]
  },
  {
   "cell_type": "markdown",
   "id": "e43223ae-dcd5-4b9c-aa53-bbbc5d92c83f",
   "metadata": {},
   "source": [
    "#### Ensemble Techniques\n",
    "a) Bagging Techniques"
   ]
  },
  {
   "cell_type": "markdown",
   "id": "fd1731b3-d66a-49c8-9708-a82e84f38586",
   "metadata": {},
   "source": [
    "#### 5. Decision Tree Regression\n",
    "<a id='dt'></a>"
   ]
  },
  {
   "cell_type": "code",
   "execution_count": 37,
   "id": "341e469e-7a85-4578-83df-5e521b4d3736",
   "metadata": {},
   "outputs": [
    {
     "name": "stdout",
     "output_type": "stream",
     "text": [
      "Model Decision Tree\n",
      "Training Score 0.9958075397596032\n",
      "Testing Score 0.626559226316765\n",
      "Mean Squared Error 21188291516.015213\n",
      "Mean Absolute Error 100159.37081745024\n",
      "R2 Score 0.626559226316765\n"
     ]
    }
   ],
   "source": [
    "decision = DecisionTreeRegressor()\n",
    "decision.fit(X_train,y_train)\n",
    "evaluate(decision,\"Decision Tree\",X_train,y_train,X_test,y_test)\n"
   ]
  },
  {
   "cell_type": "markdown",
   "id": "35b98263-5f13-4ecf-be16-4b6c8fe75620",
   "metadata": {},
   "source": [
    "#### 6. Random Forest Regression\n",
    "<a id='rf'></a>"
   ]
  },
  {
   "cell_type": "code",
   "execution_count": 39,
   "id": "8557897d-e9a7-491e-989c-dea13e77c77c",
   "metadata": {},
   "outputs": [
    {
     "name": "stdout",
     "output_type": "stream",
     "text": [
      "Model Random Forest\n",
      "Training Score 0.964520475147195\n",
      "Testing Score 0.7598467136262538\n",
      "Mean Squared Error 13625822884.922049\n",
      "Mean Absolute Error 81718.80473345453\n",
      "R2 Score 0.7598467136262538\n"
     ]
    }
   ],
   "source": [
    "RF = RandomForestRegressor()\n",
    "RF.fit(X_train,y_train)\n",
    "evaluate(RF,\"Random Forest\",X_train,y_train,X_test,y_test)\n"
   ]
  },
  {
   "cell_type": "markdown",
   "id": "2d2168f1-894a-45f7-9671-08f2e4b7353e",
   "metadata": {},
   "source": [
    "## **b) Boosting Techniques**"
   ]
  },
  {
   "cell_type": "markdown",
   "id": "a22b4f0b-27f4-45b2-83ff-a171e4907620",
   "metadata": {},
   "source": [
    "#### 7. AdaBoost Regression\n",
    "<a id='ab'></a>"
   ]
  },
  {
   "cell_type": "code",
   "execution_count": 42,
   "id": "075a5683-401a-4e22-9e09-4da5d37a2dca",
   "metadata": {},
   "outputs": [
    {
     "name": "stdout",
     "output_type": "stream",
     "text": [
      "Model AdaBoost\n",
      "Training Score 0.4260418950779029\n",
      "Testing Score 0.4377574641664884\n",
      "Mean Squared Error 31900530395.882923\n",
      "Mean Absolute Error 151355.7137936487\n",
      "R2 Score 0.4377574641664884\n"
     ]
    }
   ],
   "source": [
    "ada = AdaBoostRegressor()\n",
    "ada.fit(X_train,y_train)\n",
    "evaluate(ada,\"AdaBoost\",X_train,y_train,X_test,y_test)\n"
   ]
  },
  {
   "cell_type": "markdown",
   "id": "75b2d159-f3f7-4e53-a5d5-1d51485d4272",
   "metadata": {},
   "source": [
    "#### 8. Gradient Boosting Regression\n",
    "<a id='gb'></a>"
   ]
  },
  {
   "cell_type": "code",
   "execution_count": 44,
   "id": "99df7130-b6a2-4fbd-ad9c-d374b1528512",
   "metadata": {},
   "outputs": [
    {
     "name": "stdout",
     "output_type": "stream",
     "text": [
      "Model Gradient Boosting\n",
      "Training Score 0.7904690926319811\n",
      "Testing Score 0.7486458292785816\n",
      "Mean Squared Error 14261338927.947817\n",
      "Mean Absolute Error 87062.52629603572\n",
      "R2 Score 0.7486458292785816\n"
     ]
    }
   ],
   "source": [
    "gradient = GradientBoostingRegressor()\n",
    "gradient.fit(X_train,y_train)\n",
    "evaluate(gradient,\"Gradient Boosting\",X_train,y_train,X_test,y_test)\n"
   ]
  },
  {
   "cell_type": "markdown",
   "id": "ea0df9dc-aaad-4de4-8c0b-353f7d49cdce",
   "metadata": {},
   "source": [
    "**9. XGBoost Regression**"
   ]
  },
  {
   "cell_type": "code",
   "execution_count": 46,
   "id": "2b4a1d10-999d-4af7-b631-f157ff524a19",
   "metadata": {},
   "outputs": [
    {
     "name": "stdout",
     "output_type": "stream",
     "text": [
      "Model XGBoost\n",
      "Training Score 0.9688721679487646\n",
      "Testing Score 0.7950412624645368\n",
      "Mean Squared Error 11628953734.279398\n",
      "Mean Absolute Error 76916.81705646442\n",
      "R2 Score 0.7950412624645368\n"
     ]
    }
   ],
   "source": [
    "xgb =XGBRegressor()\n",
    "xgb.fit(X_train,y_train)\n",
    "evaluate(xgb,\"XGBoost\",X_train,y_train,X_test,y_test)\n"
   ]
  },
  {
   "cell_type": "markdown",
   "id": "7bf2f8fd-ff1b-49df-873a-34141291bc4c",
   "metadata": {},
   "source": [
    "**Retrieving models with their scores**"
   ]
  },
  {
   "cell_type": "code",
   "execution_count": 48,
   "id": "97078f70-dba7-42e7-aad5-059febaff920",
   "metadata": {},
   "outputs": [
    {
     "data": {
      "text/html": [
       "<div>\n",
       "<style scoped>\n",
       "    .dataframe tbody tr th:only-of-type {\n",
       "        vertical-align: middle;\n",
       "    }\n",
       "\n",
       "    .dataframe tbody tr th {\n",
       "        vertical-align: top;\n",
       "    }\n",
       "\n",
       "    .dataframe thead th {\n",
       "        text-align: right;\n",
       "    }\n",
       "</style>\n",
       "<table border=\"1\" class=\"dataframe\">\n",
       "  <thead>\n",
       "    <tr style=\"text-align: right;\">\n",
       "      <th></th>\n",
       "      <th>Training Score</th>\n",
       "      <th>Testing Score</th>\n",
       "      <th>R² Score</th>\n",
       "    </tr>\n",
       "  </thead>\n",
       "  <tbody>\n",
       "    <tr>\n",
       "      <th>Linear Regression</th>\n",
       "      <td>0.521575</td>\n",
       "      <td>0.531531</td>\n",
       "      <td>0.531531</td>\n",
       "    </tr>\n",
       "    <tr>\n",
       "      <th>Ridge Regression</th>\n",
       "      <td>0.521573</td>\n",
       "      <td>0.531427</td>\n",
       "      <td>0.531427</td>\n",
       "    </tr>\n",
       "    <tr>\n",
       "      <th>Lasso Regression</th>\n",
       "      <td>0.521575</td>\n",
       "      <td>0.531529</td>\n",
       "      <td>0.531529</td>\n",
       "    </tr>\n",
       "    <tr>\n",
       "      <th>KNeighbors Regressor</th>\n",
       "      <td>0.474397</td>\n",
       "      <td>0.207068</td>\n",
       "      <td>0.207068</td>\n",
       "    </tr>\n",
       "    <tr>\n",
       "      <th>Decision Tree</th>\n",
       "      <td>0.995808</td>\n",
       "      <td>0.626559</td>\n",
       "      <td>0.626559</td>\n",
       "    </tr>\n",
       "    <tr>\n",
       "      <th>Random Forest</th>\n",
       "      <td>0.964520</td>\n",
       "      <td>0.759847</td>\n",
       "      <td>0.759847</td>\n",
       "    </tr>\n",
       "    <tr>\n",
       "      <th>AdaBoost</th>\n",
       "      <td>0.426042</td>\n",
       "      <td>0.437757</td>\n",
       "      <td>0.437757</td>\n",
       "    </tr>\n",
       "    <tr>\n",
       "      <th>Gradient Boosting</th>\n",
       "      <td>0.790469</td>\n",
       "      <td>0.748646</td>\n",
       "      <td>0.748646</td>\n",
       "    </tr>\n",
       "    <tr>\n",
       "      <th>XGBoost</th>\n",
       "      <td>0.968872</td>\n",
       "      <td>0.795041</td>\n",
       "      <td>0.795041</td>\n",
       "    </tr>\n",
       "  </tbody>\n",
       "</table>\n",
       "</div>"
      ],
      "text/plain": [
       "                      Training Score  Testing Score  R² Score\n",
       "Linear Regression           0.521575       0.531531  0.531531\n",
       "Ridge Regression            0.521573       0.531427  0.531427\n",
       "Lasso Regression            0.521575       0.531529  0.531529\n",
       "KNeighbors Regressor        0.474397       0.207068  0.207068\n",
       "Decision Tree               0.995808       0.626559  0.626559\n",
       "Random Forest               0.964520       0.759847  0.759847\n",
       "AdaBoost                    0.426042       0.437757  0.437757\n",
       "Gradient Boosting           0.790469       0.748646  0.748646\n",
       "XGBoost                     0.968872       0.795041  0.795041"
      ]
     },
     "execution_count": 48,
     "metadata": {},
     "output_type": "execute_result"
    }
   ],
   "source": [
    "pd.DataFrame(model_scores).T"
   ]
  },
  {
   "cell_type": "markdown",
   "id": "34d76869-5f0c-435e-b1b4-521c2eec5983",
   "metadata": {},
   "source": [
    "- The XGBoost model achieved the best accuracy at 80%, outperforming Gradient Boosting at 75% and other models, despite showing signs of overfitting. This overfitting is likely due to the imbalanced nature of our dataset. From various plots in my notebook, CapStone_Project (Preprocessing and Graphical Analysis), you can observe that our dataset is imbalanced: approximately 40% of car brands have five or fewer data points, making it difficult for the model to accurately predict selling prices for those brands.\n",
    "- Despite Gradient Boosting having similar training and testing scores, and fitting the mean model perfectly, XGBoost is preferable due to its superior testing accuracy and robust handling of complex data structures, making it the most reliable choice for this dataset.\n",
    "\n",
    "In the future, acquiring an additional dataset with the same features could help my machine learning model overcome overfitting, as more data can allow the model to learn broader patterns rather than memorizing the training data. Currently, the dataset is too small, leading to overfitting."
   ]
  },
  {
   "cell_type": "markdown",
   "id": "942d2137-4adf-4885-ba1a-b23b590e71dc",
   "metadata": {},
   "source": [
    "# **Saving the Model**"
   ]
  },
  {
   "cell_type": "code",
   "execution_count": 51,
   "id": "3924f7ca-21d7-4994-99bf-589b50940d11",
   "metadata": {},
   "outputs": [],
   "source": [
    "pkl.dump(xgb,open('app.pkl','wb'))"
   ]
  },
  {
   "cell_type": "markdown",
   "id": "21fa5db0-16ed-4be8-ad6c-ba4efcfcd352",
   "metadata": {},
   "source": [
    "### **Uploading the Model**"
   ]
  },
  {
   "cell_type": "code",
   "execution_count": 53,
   "id": "3077e956-5025-4cb0-b703-5ade99b85229",
   "metadata": {},
   "outputs": [],
   "source": [
    "model = pkl.load(open('app.pkl','rb'))"
   ]
  },
  {
   "cell_type": "markdown",
   "id": "6fec660b-aad6-4607-9aa0-054c601fe63a",
   "metadata": {},
   "source": [
    "### Generating Sample Dataset\n",
    "<a id='sam'></a>\n",
    "Take the original data set and make another dataset by randomly picking 20 data points from the PROCESSED CAR DETAILS dataset and apply the saved model on the same Dataset and test the model."
   ]
  },
  {
   "cell_type": "code",
   "execution_count": 55,
   "id": "a907a86f-da93-4b57-b8b7-524ed624e4f6",
   "metadata": {},
   "outputs": [
    {
     "data": {
      "text/html": [
       "<div>\n",
       "<style scoped>\n",
       "    .dataframe tbody tr th:only-of-type {\n",
       "        vertical-align: middle;\n",
       "    }\n",
       "\n",
       "    .dataframe tbody tr th {\n",
       "        vertical-align: top;\n",
       "    }\n",
       "\n",
       "    .dataframe thead th {\n",
       "        text-align: right;\n",
       "    }\n",
       "</style>\n",
       "<table border=\"1\" class=\"dataframe\">\n",
       "  <thead>\n",
       "    <tr style=\"text-align: right;\">\n",
       "      <th></th>\n",
       "      <th>Car_Brand</th>\n",
       "      <th>Car_Name</th>\n",
       "      <th>Year</th>\n",
       "      <th>Selling_Price</th>\n",
       "      <th>Km_Driven</th>\n",
       "      <th>Fuel</th>\n",
       "      <th>Seller_Type</th>\n",
       "      <th>Transmission</th>\n",
       "      <th>Owner</th>\n",
       "    </tr>\n",
       "  </thead>\n",
       "  <tbody>\n",
       "    <tr>\n",
       "      <th>0</th>\n",
       "      <td>Honda</td>\n",
       "      <td>City</td>\n",
       "      <td>2010</td>\n",
       "      <td>400000</td>\n",
       "      <td>50000</td>\n",
       "      <td>Petrol</td>\n",
       "      <td>Individual</td>\n",
       "      <td>Manual</td>\n",
       "      <td>First Owner</td>\n",
       "    </tr>\n",
       "    <tr>\n",
       "      <th>1</th>\n",
       "      <td>Mahindra</td>\n",
       "      <td>Bolero</td>\n",
       "      <td>2015</td>\n",
       "      <td>320000</td>\n",
       "      <td>50000</td>\n",
       "      <td>Diesel</td>\n",
       "      <td>Individual</td>\n",
       "      <td>Manual</td>\n",
       "      <td>Third Owner</td>\n",
       "    </tr>\n",
       "    <tr>\n",
       "      <th>2</th>\n",
       "      <td>Renault</td>\n",
       "      <td>KWID</td>\n",
       "      <td>2016</td>\n",
       "      <td>280000</td>\n",
       "      <td>23000</td>\n",
       "      <td>Petrol</td>\n",
       "      <td>Individual</td>\n",
       "      <td>Manual</td>\n",
       "      <td>First Owner</td>\n",
       "    </tr>\n",
       "    <tr>\n",
       "      <th>3</th>\n",
       "      <td>Fiat</td>\n",
       "      <td>Punto</td>\n",
       "      <td>2010</td>\n",
       "      <td>165000</td>\n",
       "      <td>100000</td>\n",
       "      <td>Petrol</td>\n",
       "      <td>Individual</td>\n",
       "      <td>Manual</td>\n",
       "      <td>Fourth &amp; Above Owner</td>\n",
       "    </tr>\n",
       "    <tr>\n",
       "      <th>4</th>\n",
       "      <td>Maruti</td>\n",
       "      <td>Swift</td>\n",
       "      <td>2009</td>\n",
       "      <td>270000</td>\n",
       "      <td>120000</td>\n",
       "      <td>Diesel</td>\n",
       "      <td>Individual</td>\n",
       "      <td>Manual</td>\n",
       "      <td>Second Owner</td>\n",
       "    </tr>\n",
       "  </tbody>\n",
       "</table>\n",
       "</div>"
      ],
      "text/plain": [
       "  Car_Brand Car_Name  Year  Selling_Price  Km_Driven    Fuel Seller_Type  \\\n",
       "0     Honda     City  2010         400000      50000  Petrol  Individual   \n",
       "1  Mahindra   Bolero  2015         320000      50000  Diesel  Individual   \n",
       "2   Renault     KWID  2016         280000      23000  Petrol  Individual   \n",
       "3      Fiat    Punto  2010         165000     100000  Petrol  Individual   \n",
       "4    Maruti    Swift  2009         270000     120000  Diesel  Individual   \n",
       "\n",
       "  Transmission                 Owner  \n",
       "0       Manual           First Owner  \n",
       "1       Manual           Third Owner  \n",
       "2       Manual           First Owner  \n",
       "3       Manual  Fourth & Above Owner  \n",
       "4       Manual          Second Owner  "
      ]
     },
     "execution_count": 55,
     "metadata": {},
     "output_type": "execute_result"
    }
   ],
   "source": [
    "sample_data = df.sample(n = 20, random_state = 40).reset_index(drop=True)  # Reordering index - just for better visualization.\n",
    "sample_data.head()"
   ]
  },
  {
   "cell_type": "markdown",
   "id": "33333f89-02cf-4ae6-bd44-259ec08d6f68",
   "metadata": {},
   "source": [
    "## **Saving the Sample Dataset**"
   ]
  },
  {
   "cell_type": "code",
   "execution_count": 57,
   "id": "fe032692-5e25-4fed-8f07-9017ac39d7db",
   "metadata": {},
   "outputs": [],
   "source": [
    "sample_data.to_csv(\"Sample_Dataset.csv\", index=False)"
   ]
  },
  {
   "cell_type": "code",
   "execution_count": 58,
   "id": "9f880234-05c2-4e08-b446-ad934a3e2dd1",
   "metadata": {},
   "outputs": [
    {
     "data": {
      "text/html": [
       "<div>\n",
       "<style scoped>\n",
       "    .dataframe tbody tr th:only-of-type {\n",
       "        vertical-align: middle;\n",
       "    }\n",
       "\n",
       "    .dataframe tbody tr th {\n",
       "        vertical-align: top;\n",
       "    }\n",
       "\n",
       "    .dataframe thead th {\n",
       "        text-align: right;\n",
       "    }\n",
       "</style>\n",
       "<table border=\"1\" class=\"dataframe\">\n",
       "  <thead>\n",
       "    <tr style=\"text-align: right;\">\n",
       "      <th></th>\n",
       "      <th>Car_Brand</th>\n",
       "      <th>Car_Name</th>\n",
       "      <th>Year</th>\n",
       "      <th>Selling_Price</th>\n",
       "      <th>Km_Driven</th>\n",
       "      <th>Fuel</th>\n",
       "      <th>Seller_Type</th>\n",
       "      <th>Transmission</th>\n",
       "      <th>Owner</th>\n",
       "    </tr>\n",
       "  </thead>\n",
       "  <tbody>\n",
       "    <tr>\n",
       "      <th>0</th>\n",
       "      <td>8</td>\n",
       "      <td>30</td>\n",
       "      <td>2010</td>\n",
       "      <td>400000</td>\n",
       "      <td>50000</td>\n",
       "      <td>4</td>\n",
       "      <td>1</td>\n",
       "      <td>1</td>\n",
       "      <td>0</td>\n",
       "    </tr>\n",
       "    <tr>\n",
       "      <th>1</th>\n",
       "      <td>10</td>\n",
       "      <td>21</td>\n",
       "      <td>2015</td>\n",
       "      <td>320000</td>\n",
       "      <td>50000</td>\n",
       "      <td>1</td>\n",
       "      <td>1</td>\n",
       "      <td>1</td>\n",
       "      <td>4</td>\n",
       "    </tr>\n",
       "    <tr>\n",
       "      <th>2</th>\n",
       "      <td>16</td>\n",
       "      <td>75</td>\n",
       "      <td>2016</td>\n",
       "      <td>280000</td>\n",
       "      <td>23000</td>\n",
       "      <td>4</td>\n",
       "      <td>1</td>\n",
       "      <td>1</td>\n",
       "      <td>0</td>\n",
       "    </tr>\n",
       "    <tr>\n",
       "      <th>3</th>\n",
       "      <td>5</td>\n",
       "      <td>98</td>\n",
       "      <td>2010</td>\n",
       "      <td>165000</td>\n",
       "      <td>100000</td>\n",
       "      <td>4</td>\n",
       "      <td>1</td>\n",
       "      <td>1</td>\n",
       "      <td>1</td>\n",
       "    </tr>\n",
       "    <tr>\n",
       "      <th>4</th>\n",
       "      <td>11</td>\n",
       "      <td>120</td>\n",
       "      <td>2009</td>\n",
       "      <td>270000</td>\n",
       "      <td>120000</td>\n",
       "      <td>1</td>\n",
       "      <td>1</td>\n",
       "      <td>1</td>\n",
       "      <td>2</td>\n",
       "    </tr>\n",
       "  </tbody>\n",
       "</table>\n",
       "</div>"
      ],
      "text/plain": [
       "   Car_Brand  Car_Name  Year  Selling_Price  Km_Driven  Fuel  Seller_Type  \\\n",
       "0          8        30  2010         400000      50000     4            1   \n",
       "1         10        21  2015         320000      50000     1            1   \n",
       "2         16        75  2016         280000      23000     4            1   \n",
       "3          5        98  2010         165000     100000     4            1   \n",
       "4         11       120  2009         270000     120000     1            1   \n",
       "\n",
       "   Transmission  Owner  \n",
       "0             1      0  \n",
       "1             1      4  \n",
       "2             1      0  \n",
       "3             1      1  \n",
       "4             1      2  "
      ]
     },
     "execution_count": 58,
     "metadata": {},
     "output_type": "execute_result"
    }
   ],
   "source": [
    "# Applying Scaling\n",
    "for i in categorical_col:\n",
    "    sample_data[i] = label_encoder[i].transform(sample_data[i])\n",
    "sample_data.head()"
   ]
  },
  {
   "cell_type": "markdown",
   "id": "56839dfb-2f81-49dc-b6e9-3ff582fe8bbc",
   "metadata": {},
   "source": [
    "### **Generating prediction through Model on Sample Dataset**"
   ]
  },
  {
   "cell_type": "code",
   "execution_count": 60,
   "id": "d7646f41-274b-4886-be3f-cbeb71aa4789",
   "metadata": {},
   "outputs": [
    {
     "name": "stdout",
     "output_type": "stream",
     "text": [
      "\n",
      "Random Predictions on 20 Data Points:\n"
     ]
    },
    {
     "data": {
      "text/html": [
       "<div>\n",
       "<style scoped>\n",
       "    .dataframe tbody tr th:only-of-type {\n",
       "        vertical-align: middle;\n",
       "    }\n",
       "\n",
       "    .dataframe tbody tr th {\n",
       "        vertical-align: top;\n",
       "    }\n",
       "\n",
       "    .dataframe thead th {\n",
       "        text-align: right;\n",
       "    }\n",
       "</style>\n",
       "<table border=\"1\" class=\"dataframe\">\n",
       "  <thead>\n",
       "    <tr style=\"text-align: right;\">\n",
       "      <th></th>\n",
       "      <th>Actual</th>\n",
       "      <th>Predicted</th>\n",
       "      <th>Difference in %</th>\n",
       "    </tr>\n",
       "  </thead>\n",
       "  <tbody>\n",
       "    <tr>\n",
       "      <th>0</th>\n",
       "      <td>400000</td>\n",
       "      <td>343793</td>\n",
       "      <td>14.051750</td>\n",
       "    </tr>\n",
       "    <tr>\n",
       "      <th>1</th>\n",
       "      <td>320000</td>\n",
       "      <td>334296</td>\n",
       "      <td>-4.467500</td>\n",
       "    </tr>\n",
       "    <tr>\n",
       "      <th>2</th>\n",
       "      <td>280000</td>\n",
       "      <td>281397</td>\n",
       "      <td>-0.498929</td>\n",
       "    </tr>\n",
       "    <tr>\n",
       "      <th>3</th>\n",
       "      <td>165000</td>\n",
       "      <td>163794</td>\n",
       "      <td>0.730909</td>\n",
       "    </tr>\n",
       "    <tr>\n",
       "      <th>4</th>\n",
       "      <td>270000</td>\n",
       "      <td>226869</td>\n",
       "      <td>15.974444</td>\n",
       "    </tr>\n",
       "    <tr>\n",
       "      <th>5</th>\n",
       "      <td>490000</td>\n",
       "      <td>455656</td>\n",
       "      <td>7.008980</td>\n",
       "    </tr>\n",
       "    <tr>\n",
       "      <th>6</th>\n",
       "      <td>220000</td>\n",
       "      <td>225957</td>\n",
       "      <td>-2.707727</td>\n",
       "    </tr>\n",
       "    <tr>\n",
       "      <th>7</th>\n",
       "      <td>430000</td>\n",
       "      <td>579768</td>\n",
       "      <td>-34.829767</td>\n",
       "    </tr>\n",
       "    <tr>\n",
       "      <th>8</th>\n",
       "      <td>950000</td>\n",
       "      <td>651996</td>\n",
       "      <td>31.368842</td>\n",
       "    </tr>\n",
       "    <tr>\n",
       "      <th>9</th>\n",
       "      <td>135000</td>\n",
       "      <td>81556</td>\n",
       "      <td>39.588148</td>\n",
       "    </tr>\n",
       "    <tr>\n",
       "      <th>10</th>\n",
       "      <td>380000</td>\n",
       "      <td>421980</td>\n",
       "      <td>-11.047368</td>\n",
       "    </tr>\n",
       "    <tr>\n",
       "      <th>11</th>\n",
       "      <td>375000</td>\n",
       "      <td>358904</td>\n",
       "      <td>4.292267</td>\n",
       "    </tr>\n",
       "    <tr>\n",
       "      <th>12</th>\n",
       "      <td>750000</td>\n",
       "      <td>694767</td>\n",
       "      <td>7.364400</td>\n",
       "    </tr>\n",
       "    <tr>\n",
       "      <th>13</th>\n",
       "      <td>711000</td>\n",
       "      <td>734963</td>\n",
       "      <td>-3.370323</td>\n",
       "    </tr>\n",
       "    <tr>\n",
       "      <th>14</th>\n",
       "      <td>450000</td>\n",
       "      <td>353998</td>\n",
       "      <td>21.333778</td>\n",
       "    </tr>\n",
       "    <tr>\n",
       "      <th>15</th>\n",
       "      <td>229999</td>\n",
       "      <td>276804</td>\n",
       "      <td>-20.350088</td>\n",
       "    </tr>\n",
       "    <tr>\n",
       "      <th>16</th>\n",
       "      <td>800000</td>\n",
       "      <td>717020</td>\n",
       "      <td>10.372500</td>\n",
       "    </tr>\n",
       "    <tr>\n",
       "      <th>17</th>\n",
       "      <td>175000</td>\n",
       "      <td>184759</td>\n",
       "      <td>-5.576571</td>\n",
       "    </tr>\n",
       "    <tr>\n",
       "      <th>18</th>\n",
       "      <td>550000</td>\n",
       "      <td>509214</td>\n",
       "      <td>7.415636</td>\n",
       "    </tr>\n",
       "    <tr>\n",
       "      <th>19</th>\n",
       "      <td>415000</td>\n",
       "      <td>497670</td>\n",
       "      <td>-19.920482</td>\n",
       "    </tr>\n",
       "  </tbody>\n",
       "</table>\n",
       "</div>"
      ],
      "text/plain": [
       "    Actual  Predicted  Difference in %\n",
       "0   400000     343793        14.051750\n",
       "1   320000     334296        -4.467500\n",
       "2   280000     281397        -0.498929\n",
       "3   165000     163794         0.730909\n",
       "4   270000     226869        15.974444\n",
       "5   490000     455656         7.008980\n",
       "6   220000     225957        -2.707727\n",
       "7   430000     579768       -34.829767\n",
       "8   950000     651996        31.368842\n",
       "9   135000      81556        39.588148\n",
       "10  380000     421980       -11.047368\n",
       "11  375000     358904         4.292267\n",
       "12  750000     694767         7.364400\n",
       "13  711000     734963        -3.370323\n",
       "14  450000     353998        21.333778\n",
       "15  229999     276804       -20.350088\n",
       "16  800000     717020        10.372500\n",
       "17  175000     184759        -5.576571\n",
       "18  550000     509214         7.415636\n",
       "19  415000     497670       -19.920482"
      ]
     },
     "execution_count": 60,
     "metadata": {},
     "output_type": "execute_result"
    }
   ],
   "source": [
    "# Splitting Input and Target variables\n",
    "sample_x = sample_data.drop([\"Selling_Price\"], axis=1)\n",
    "sample_y = sample_data[\"Selling_Price\"]\n",
    "\n",
    "# Generating predicion using the loaded model\n",
    "sample_pred = model.predict(sample_x).astype(int)\n",
    "\n",
    "# Comparing the actual and predicted data \n",
    "results = pd.DataFrame({'Actual': sample_y, 'Predicted': sample_pred, 'Difference in %': ((sample_y - sample_pred)/sample_y)*100})\n",
    "print(\"\\nRandom Predictions on 20 Data Points:\")\n",
    "results\n"
   ]
  },
  {
   "cell_type": "code",
   "execution_count": 61,
   "id": "d636c34b-72a4-4ffe-bd37-0f41426136d8",
   "metadata": {},
   "outputs": [
    {
     "name": "stdout",
     "output_type": "stream",
     "text": [
      "\n",
      "MSE : 7653376765.6\n",
      "MAE : 57701.4\n",
      "R2 Score : 0.8437680792476501\n"
     ]
    }
   ],
   "source": [
    "# Evaluating the score on model\n",
    "print('\\nMSE :',mean_squared_error(sample_y,sample_pred))\n",
    "print('MAE :',mean_absolute_error(sample_y,sample_pred))\n",
    "print('R2 Score :',r2_score(sample_y,sample_pred))"
   ]
  },
  {
   "cell_type": "markdown",
   "id": "bdf643d4-715c-477d-804b-b675ba5b6e41",
   "metadata": {},
   "source": [
    "As you can see, the model gives an R² score of approximately 0.85 on unseen data. Although my XGBoost model was initially overfitting, it is still performing well on unseen data or may be due to the learning specific patterns.However, by obtaining more data, the model will have the opportunity to learn more generalized patterns, which could reduce the risk of overfitting and further improve its performance on new, unseen data, providing predictions that are closer to the actual values."
   ]
  },
  {
   "cell_type": "markdown",
   "id": "fd55c108-52a9-4640-9891-6b94b7fbaeff",
   "metadata": {},
   "source": [
    "### Conclusion:\n",
    "* Ensuring the dataset is free from missing and duplicate values is crucial. Missing values can be handled either by dropping or imputing them, depending on the dataset's structure. Addressing this issue is important to avoid errors during model training.\n",
    "* Remove the outliers from the data as it would completely change some of the important predictions and lead to an increase in the error respectively.\n",
    "* Before applying data to machine learning models for prediction, it is essential to convert all categorical features into numerical values. Machine learning algorithms typically only work with numerical data, so if categorical features are passed directly without being converted, the models will not function correctly and may result in errors, impacting the overall prediction process.\n",
    "* It is always a good practice to shuffle the data before splitting it into training and testing sets. Shuffling introduces more randomness, ensuring that the training and testing sets are diverse and representative of the overall dataset. This helps the machine learning models learn better patterns and generalize more effectively, improving their performance on new, unseen data.\n",
    "* Using different machine learning models would lead to different values of mean absolute error, mean squared error and r2 score respectively.\n",
    "* While making predictions with a saved model, it's important to apply the same preprocessing steps that were applied before separating the dataset into dependent and independent features. If you don't, you might end up getting an error message while performing on the model."
   ]
  },
  {
   "cell_type": "code",
   "execution_count": null,
   "id": "52e7d5b0-033d-4a8f-beff-eb63cf348f60",
   "metadata": {},
   "outputs": [],
   "source": []
  }
 ],
 "metadata": {
  "kernelspec": {
   "display_name": "Python 3 (ipykernel)",
   "language": "python",
   "name": "python3"
  },
  "language_info": {
   "codemirror_mode": {
    "name": "ipython",
    "version": 3
   },
   "file_extension": ".py",
   "mimetype": "text/x-python",
   "name": "python",
   "nbconvert_exporter": "python",
   "pygments_lexer": "ipython3",
   "version": "3.11.7"
  },
  "widgets": {
   "application/vnd.jupyter.widget-state+json": {
    "state": {},
    "version_major": 2,
    "version_minor": 0
   }
  }
 },
 "nbformat": 4,
 "nbformat_minor": 5
}
